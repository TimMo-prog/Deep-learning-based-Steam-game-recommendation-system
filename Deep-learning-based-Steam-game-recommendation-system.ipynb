{
  "nbformat": 4,
  "nbformat_minor": 0,
  "metadata": {
    "colab": {
      "name": "baseline_improvement.ipynb",
      "provenance": [],
      "collapsed_sections": []
    },
    "kernelspec": {
      "display_name": "Python 3",
      "language": "python",
      "name": "python3"
    },
    "language_info": {
      "codemirror_mode": {
        "name": "ipython",
        "version": 3
      },
      "file_extension": ".py",
      "mimetype": "text/x-python",
      "name": "python",
      "nbconvert_exporter": "python",
      "pygments_lexer": "ipython3",
      "version": "3.7.3"
    },
    "accelerator": "GPU"
  },
  "cells": [
    {
      "cell_type": "code",
      "metadata": {
        "colab": {
          "base_uri": "https://localhost:8080/"
        },
        "id": "eEcZAnNdNvh4",
        "outputId": "f2593380-15f1-44eb-8c9d-b331d9773a8e"
      },
      "source": [
        "# from google.colab import drive\n",
        "# drive.mount('/content/drive')"
      ],
      "execution_count": 1,
      "outputs": [
        {
          "output_type": "stream",
          "text": [
            "Drive already mounted at /content/drive; to attempt to forcibly remount, call drive.mount(\"/content/drive\", force_remount=True).\n"
          ],
          "name": "stdout"
        }
      ]
    },
    {
      "cell_type": "code",
      "metadata": {
        "id": "9gG3jLOGbaUv",
        "colab": {
          "base_uri": "https://localhost:8080/"
        },
        "outputId": "9a003e45-4c9e-4a5a-feb0-b12de5173845"
      },
      "source": [
        "!pip install -q tensorflow-recommenders\n",
        "!pip install -q --upgrade tensorflow-datasets\n",
        "!pip install numpy\n",
        "!pip install pandas\n",
        "!pip install sklearn"
      ],
      "execution_count": 2,
      "outputs": [
        {
          "output_type": "stream",
          "text": [
            "Requirement already satisfied: numpy in /usr/local/lib/python3.7/dist-packages (1.19.5)\n",
            "Requirement already satisfied: pandas in /usr/local/lib/python3.7/dist-packages (1.1.5)\n",
            "Requirement already satisfied: pytz>=2017.2 in /usr/local/lib/python3.7/dist-packages (from pandas) (2018.9)\n",
            "Requirement already satisfied: python-dateutil>=2.7.3 in /usr/local/lib/python3.7/dist-packages (from pandas) (2.8.1)\n",
            "Requirement already satisfied: numpy>=1.15.4 in /usr/local/lib/python3.7/dist-packages (from pandas) (1.19.5)\n",
            "Requirement already satisfied: six>=1.5 in /usr/local/lib/python3.7/dist-packages (from python-dateutil>=2.7.3->pandas) (1.15.0)\n",
            "Requirement already satisfied: sklearn in /usr/local/lib/python3.7/dist-packages (0.0)\n",
            "Requirement already satisfied: scikit-learn in /usr/local/lib/python3.7/dist-packages (from sklearn) (0.22.2.post1)\n",
            "Requirement already satisfied: numpy>=1.11.0 in /usr/local/lib/python3.7/dist-packages (from scikit-learn->sklearn) (1.19.5)\n",
            "Requirement already satisfied: joblib>=0.11 in /usr/local/lib/python3.7/dist-packages (from scikit-learn->sklearn) (1.0.1)\n",
            "Requirement already satisfied: scipy>=0.17.0 in /usr/local/lib/python3.7/dist-packages (from scikit-learn->sklearn) (1.4.1)\n"
          ],
          "name": "stdout"
        }
      ]
    },
    {
      "cell_type": "code",
      "metadata": {
        "id": "SZGYDaF-m5wZ"
      },
      "source": [
        "import os\n",
        "import pprint\n",
        "import tempfile\n",
        "from typing import Dict, Text\n",
        "import numpy as np\n",
        "import pandas as pd\n",
        "import tensorflow as tf\n",
        "import tensorflow_datasets as tfds\n",
        "import tensorflow_recommenders as tfrs"
      ],
      "execution_count": 3,
      "outputs": []
    },
    {
      "cell_type": "code",
      "metadata": {
        "id": "JBbgUK2vMxHY"
      },
      "source": [
        "# data pre-processing\n",
        "\n",
        "\n",
        "# import dataset and the dataset is from https://www.kaggle.com/tamber/steam-video-games/\n",
        "df = pd.read_csv('./steam-200k.csv', header=None)\n",
        "\n",
        "df_play = df[(df[2] == 'play')]\n",
        "\n",
        "df_play_input = df_play[[0, 1, 3]]\n",
        "df_play_input.columns = [\"user_id\", \"name\", \"playing_hours\"]\n",
        "\n",
        "# get the max time of a game and min time of a game\n",
        "\n",
        "df_max = df_play_input.groupby(\"name\").max().reset_index()[[\"name\", \"playing_hours\"]]\n",
        "df_max.columns = [\"name\", \"max_playing_hours\"]\n",
        "df_min = df_play_input.groupby(\"name\").min().reset_index()[[\"name\", \"playing_hours\"]]\n",
        "df_min.columns = [\"name\", \"min_playing_hours\"]\n",
        "df_max_and_min = pd.merge(df_max, df_min, on=\"name\")\n",
        "\n",
        "# get index of game\n",
        "\n",
        "df_max_and_min['game_index'] = df_max_and_min.index\n",
        "\n",
        "# calutate the percentage\n",
        "\n",
        "df_full_table = pd.merge(df_play_input, df_max_and_min, on=\"name\")\n",
        "df_full_table['percentage'] = df_full_table['playing_hours'] / (\n",
        "            df_full_table['max_playing_hours'] + df_full_table['min_playing_hours'])\n",
        "\n",
        "\n",
        "# convert to rating\n",
        "\n",
        "def convert_to_rating(i):\n",
        "    if (0 <= i < 0.2):\n",
        "        rating = 1\n",
        "    elif (0.2 <= i < 0.4):\n",
        "        rating = 2\n",
        "    elif (0.4 <= i < 0.6):\n",
        "        rating = 3\n",
        "    elif (0.6 <= i < 0.8):\n",
        "        rating = 4\n",
        "    elif (0.8 <= i <= 1.0):\n",
        "        rating = 5\n",
        "    else:\n",
        "        rating = 0\n",
        "    return rating\n",
        "\n",
        "\n",
        "df_full_table['rating'] = df_full_table['percentage'].apply(lambda x: convert_to_rating(x))\n",
        "\n",
        "df_game_info = pd.read_csv('./steam_games.csv')\n",
        "df_full_table_with_game_info = pd.merge(df_full_table, df_game_info, on=\"name\")\n",
        "\n",
        "df_full_table_array = df_full_table_with_game_info[['name','user_id','rating','game_description','genre']].to_numpy().astype('U')\n",
        "df_full_table_array = pd.DataFrame(data=df_full_table_array, columns=[\"name\",'user_id','rating','game_description','genre'])"
      ],
      "execution_count": 4,
      "outputs": []
    },
    {
      "cell_type": "code",
      "metadata": {
        "id": "aaQhqcLGP0jL"
      },
      "source": [
        "# generate inputs for tensorflow \n",
        "\n",
        "ratings = tf.data.Dataset.from_tensor_slices(dict(df_full_table_array)).map(lambda x: {\n",
        "    \"user_id\": x[\"user_id\"],\n",
        "    \"game_title\": x[\"name\"],\n",
        "    \"user_rating\": float(x[\"rating\"]),\n",
        "    \"game_desc\": x[\"game_description\"],\n",
        "    \"game_genre\": x[\"genre\"]  \n",
        "})"
      ],
      "execution_count": 5,
      "outputs": []
    },
    {
      "cell_type": "code",
      "metadata": {
        "id": "rS0eDfkjnjJL"
      },
      "source": [
        "# dataset splitting\n",
        "tf.random.set_seed(40)\n",
        "shuffled = ratings.shuffle(36257, seed=40, reshuffle_each_iteration=False)\n",
        "\n",
        "train = shuffled.take(29005)\n",
        "test = shuffled.skip(29005).take(7252)"
      ],
      "execution_count": 6,
      "outputs": []
    },
    {
      "cell_type": "code",
      "metadata": {
        "id": "MKROCiPo_5LJ"
      },
      "source": [
        "# get unique items from features\n",
        "games = tf.data.Dataset.from_tensor_slices(dict(df_full_table_array)).map(lambda x: \n",
        "    x[\"name\"])\n",
        "\n",
        "game_desc = tf.data.Dataset.from_tensor_slices(dict(df_full_table_array)).map(lambda x: \n",
        "    x[\"game_description\"])\n",
        "\n",
        "game_genre = tf.data.Dataset.from_tensor_slices(dict(df_full_table_array)).map(lambda x: \n",
        "    x[\"genre\"])\n",
        "\n",
        "game_titles = ratings.batch(1_000).map(lambda x: x[\"game_title\"])\n",
        "unique_game_titles = np.unique(np.concatenate(list(game_titles)))\n",
        "\n",
        "user_ids = ratings.batch(1_000).map(lambda x: x[\"user_id\"])\n",
        "unique_user_ids = np.unique(np.concatenate(list(user_ids)))\n",
        "\n",
        "game_descs = ratings.batch(1_000).map(lambda x: x[\"game_desc\"])\n",
        "unique_game_descs = np.unique(np.concatenate(list(game_descs)))\n",
        "\n",
        "game_genres = ratings.batch(1_000).map(lambda x: x[\"game_genre\"])\n",
        "unique_game_genres = np.unique(np.concatenate(list(game_genres)))\n"
      ],
      "execution_count": 7,
      "outputs": []
    },
    {
      "cell_type": "code",
      "metadata": {
        "id": "fAk0y0Yf1eGh"
      },
      "source": [
        "class RankingModel(tf.keras.Model):\n",
        "\n",
        "  def __init__(self, use_game_titles, use_game_descs, use_game_genres):\n",
        "    super().__init__()\n",
        "    embedding_dimension = 32\n",
        "    max_tokens = 10_000_000\n",
        "\n",
        "    self.use_game_titles = use_game_titles\n",
        "    self.use_game_descs = use_game_descs\n",
        "    self.use_game_genres = use_game_genres\n",
        "\n",
        "    # embeddings for users\n",
        "    self.user_embeddings = tf.keras.Sequential([\n",
        "      tf.keras.layers.experimental.preprocessing.StringLookup(\n",
        "        vocabulary=unique_user_ids, mask_token=None),\n",
        "      tf.keras.layers.Embedding(len(unique_user_ids) + 1, embedding_dimension)\n",
        "    ])\n",
        "\n",
        "    # embeddings for games\n",
        "    self.game_embeddings = tf.keras.Sequential([\n",
        "      tf.keras.layers.experimental.preprocessing.StringLookup(\n",
        "        vocabulary=unique_game_titles, mask_token=None),\n",
        "      tf.keras.layers.Embedding(len(unique_game_titles) + 1, embedding_dimension)\n",
        "    ])\n",
        "\n",
        "    self.ratings = tf.keras.Sequential([\n",
        "      tf.keras.layers.Dense(256, activation=\"relu\"),\n",
        "      tf.keras.layers.Dense(64, activation=\"relu\"),\n",
        "      tf.keras.layers.Dense(1)\n",
        "  ])\n",
        "    \n",
        "    # embeddings for game descriptions\n",
        "    if self.use_game_titles:    \n",
        "      self.title_vectorizer = tf.keras.layers.experimental.preprocessing.TextVectorization(\n",
        "          max_tokens=max_tokens)\n",
        "    \n",
        "      self.title_text_embedding = tf.keras.Sequential([\n",
        "        self.title_vectorizer,\n",
        "        tf.keras.layers.Embedding(max_tokens, 32, mask_zero=True),\n",
        "        tf.keras.layers.GlobalAveragePooling1D(),\n",
        "      ])\n",
        "\n",
        "      self.title_vectorizer.adapt(games)\n",
        "\n",
        "    # embeddings for game descriptions\n",
        "    if self.use_game_descs: \n",
        "      self.game_desc_embeddings = tf.keras.Sequential([\n",
        "        tf.keras.layers.experimental.preprocessing.StringLookup(\n",
        "          vocabulary=unique_game_descs, mask_token=None),\n",
        "        tf.keras.layers.Embedding(len(unique_game_descs) + 1, embedding_dimension)\n",
        "      ])    \n",
        "      \n",
        "      self.game_desc_vectorizer = tf.keras.layers.experimental.preprocessing.TextVectorization(\n",
        "          max_tokens=max_tokens)\n",
        "\n",
        "      self.game_desc_text_embedding = tf.keras.Sequential([\n",
        "        self.game_desc_vectorizer,\n",
        "        tf.keras.layers.Embedding(max_tokens, 32, mask_zero=True),\n",
        "        tf.keras.layers.GlobalAveragePooling1D(),\n",
        "      ])\n",
        "\n",
        "      self.game_desc_vectorizer.adapt(game_desc)\n",
        "\n",
        "\n",
        "    # embeddings for game genres\n",
        "    if self.use_game_genres:\n",
        "      self.game_genre_embeddings = tf.keras.Sequential([\n",
        "        tf.keras.layers.experimental.preprocessing.StringLookup(\n",
        "          vocabulary=unique_game_genres, mask_token=None),\n",
        "        tf.keras.layers.Embedding(len(unique_game_genres) + 1, embedding_dimension)\n",
        "      ])    \n",
        "      \n",
        "      self.game_genre_vectorizer = tf.keras.layers.experimental.preprocessing.TextVectorization(\n",
        "          max_tokens=max_tokens)\n",
        "\n",
        "      self.game_genre_text_embedding = tf.keras.Sequential([\n",
        "        self.game_genre_vectorizer,\n",
        "        tf.keras.layers.Embedding(max_tokens, 32, mask_zero=True),\n",
        "        tf.keras.layers.GlobalAveragePooling1D(),\n",
        "      ])\n",
        "\n",
        "      self.game_genre_vectorizer.adapt(game_genre)\n",
        "\n",
        "  \n",
        "    \n",
        "  def call(self, inputs):\n",
        "\n",
        "    user_id = inputs[0]\n",
        "    game_title = inputs[1]\n",
        "    if self.use_game_descs and self.use_game_genres:\n",
        "      game_descs = inputs[2]\n",
        "      game_genres = inputs[3]\n",
        "    else:\n",
        "      if self.use_game_descs:\n",
        "        game_descs = inputs[2]\n",
        "      if self.use_game_genres:\n",
        "        game_genres = inputs[2]\n",
        "\n",
        "    embedddings = []\n",
        "\n",
        "    user_embedding = self.user_embeddings(user_id)\n",
        "    embedddings.append(user_embedding)\n",
        "    game_embedding = self.game_embeddings(game_title)\n",
        "    embedddings.append(game_embedding)\n",
        "\n",
        "    if self.use_game_titles: \n",
        "      title_text_embedding = self.title_text_embedding(game_title)\n",
        "      embedddings.append(title_text_embedding)\n",
        "\n",
        "    if self.use_game_descs: \n",
        "      game_desc_embeddings = self.game_desc_embeddings(game_descs)\n",
        "      game_desc_text_embedding = self.game_desc_text_embedding(game_descs)\n",
        "      embedddings.append(game_desc_embeddings)\n",
        "      embedddings.append(game_desc_text_embedding)\n",
        "\n",
        "    if self.use_game_genres:\n",
        "      game_genre_embeddings = self.game_genre_embeddings(game_genres)\n",
        "      game_genre_text_embedding = self.game_genre_text_embedding(game_genres)\n",
        "\n",
        "    return self.ratings(tf.concat(embedddings, axis=1))\n"
      ],
      "execution_count": 8,
      "outputs": []
    },
    {
      "cell_type": "code",
      "metadata": {
        "id": "tJ61Iz2QTBw3"
      },
      "source": [
        "# define loss function\n",
        "task = tfrs.tasks.Ranking(\n",
        "  loss = tf.keras.losses.MeanSquaredError(),\n",
        "  metrics=[tf.keras.metrics.RootMeanSquaredError(),tf.keras.metrics.MeanAbsoluteError()]\n",
        ")"
      ],
      "execution_count": 9,
      "outputs": []
    },
    {
      "cell_type": "code",
      "metadata": {
        "id": "8n7c5CHFp0ow"
      },
      "source": [
        "class SteamModel(tfrs.models.Model):\n",
        "\n",
        "  def __init__(self, use_game_titles, use_game_descs, use_game_genres):\n",
        "    super().__init__()\n",
        "    self.ranking_model: tf.keras.Model = RankingModel(use_game_titles, use_game_descs, use_game_genres)\n",
        "    self.task: tf.keras.layers.Layer = tfrs.tasks.Ranking(\n",
        "      loss = tf.keras.losses.MeanSquaredError(),\n",
        "      metrics=[tf.keras.metrics.RootMeanSquaredError(),tf.keras.metrics.MeanAbsoluteError()]\n",
        "    )\n",
        "    self.use_game_titles = use_game_titles\n",
        "    self.use_game_descs = use_game_descs\n",
        "    self.use_game_genres = use_game_genres\n",
        "\n",
        "\n",
        "  def compute_loss(self, features: Dict[Text, tf.Tensor], training=False) -> tf.Tensor:\n",
        "    feature_lst = [features[\"user_id\"], features[\"game_title\"]]\n",
        "    if self.use_game_descs:\n",
        "      feature_lst.append(features[\"game_desc\"])\n",
        "    if self.use_game_genres:\n",
        "      feature_lst.append(features[\"game_genre\"])  \n",
        "    rating_predictions = self.ranking_model(tuple(feature_lst))\n",
        "\n",
        "    return self.task(labels=features[\"user_rating\"], predictions=rating_predictions)"
      ],
      "execution_count": 10,
      "outputs": []
    },
    {
      "cell_type": "code",
      "metadata": {
        "id": "aW63YaqP2wCf"
      },
      "source": [
        "# compile model\n",
        "model = SteamModel(use_game_titles = True, use_game_descs = False, use_game_genres = True)\n",
        "model.compile(optimizer=tf.keras.optimizers.Adagrad(learning_rate=0.1))"
      ],
      "execution_count": 11,
      "outputs": []
    },
    {
      "cell_type": "code",
      "metadata": {
        "id": "53QJwY1gUnfv"
      },
      "source": [
        "cached_train = train.shuffle(29005).batch(512)\n",
        "cached_test = test.batch(1024).cache()"
      ],
      "execution_count": 12,
      "outputs": []
    },
    {
      "cell_type": "code",
      "metadata": {
        "id": "ZxPntlT8EFOZ",
        "colab": {
          "base_uri": "https://localhost:8080/"
        },
        "outputId": "1222dd2d-2f25-4cd0-bd0b-ac734a7c874e"
      },
      "source": [
        "# fit the model\n",
        "model.fit(cached_train, epochs=50)"
      ],
      "execution_count": 13,
      "outputs": [
        {
          "output_type": "stream",
          "text": [
            "Epoch 1/50\n",
            "WARNING:tensorflow:Gradients do not exist for variables ['embedding_3/embeddings:0', 'embedding_4/embeddings:0'] when minimizing the loss.\n",
            "WARNING:tensorflow:Gradients do not exist for variables ['embedding_3/embeddings:0', 'embedding_4/embeddings:0'] when minimizing the loss.\n",
            "57/57 [==============================] - 7s 8ms/step - root_mean_squared_error: 0.8947 - mean_absolute_error: 0.5429 - loss: 0.7973 - regularization_loss: 0.0000e+00 - total_loss: 0.7973\n",
            "Epoch 2/50\n",
            "57/57 [==============================] - 1s 10ms/step - root_mean_squared_error: 0.8359 - mean_absolute_error: 0.4948 - loss: 0.6959 - regularization_loss: 0.0000e+00 - total_loss: 0.6959\n",
            "Epoch 3/50\n",
            "57/57 [==============================] - 1s 8ms/step - root_mean_squared_error: 0.8043 - mean_absolute_error: 0.4597 - loss: 0.6478 - regularization_loss: 0.0000e+00 - total_loss: 0.6478\n",
            "Epoch 4/50\n",
            "57/57 [==============================] - 1s 8ms/step - root_mean_squared_error: 0.7642 - mean_absolute_error: 0.4147 - loss: 0.5853 - regularization_loss: 0.0000e+00 - total_loss: 0.5853\n",
            "Epoch 5/50\n",
            "57/57 [==============================] - 1s 8ms/step - root_mean_squared_error: 0.7396 - mean_absolute_error: 0.3918 - loss: 0.5464 - regularization_loss: 0.0000e+00 - total_loss: 0.5464\n",
            "Epoch 6/50\n",
            "57/57 [==============================] - 1s 10ms/step - root_mean_squared_error: 0.7242 - mean_absolute_error: 0.3746 - loss: 0.5268 - regularization_loss: 0.0000e+00 - total_loss: 0.5268\n",
            "Epoch 7/50\n",
            "57/57 [==============================] - 1s 10ms/step - root_mean_squared_error: 0.7075 - mean_absolute_error: 0.3618 - loss: 0.4999 - regularization_loss: 0.0000e+00 - total_loss: 0.4999\n",
            "Epoch 8/50\n",
            "57/57 [==============================] - 1s 8ms/step - root_mean_squared_error: 0.6952 - mean_absolute_error: 0.3519 - loss: 0.4869 - regularization_loss: 0.0000e+00 - total_loss: 0.4869\n",
            "Epoch 9/50\n",
            "57/57 [==============================] - 1s 10ms/step - root_mean_squared_error: 0.6834 - mean_absolute_error: 0.3416 - loss: 0.4656 - regularization_loss: 0.0000e+00 - total_loss: 0.4656\n",
            "Epoch 10/50\n",
            "57/57 [==============================] - 1s 8ms/step - root_mean_squared_error: 0.6744 - mean_absolute_error: 0.3352 - loss: 0.4577 - regularization_loss: 0.0000e+00 - total_loss: 0.4577\n",
            "Epoch 11/50\n",
            "57/57 [==============================] - 1s 8ms/step - root_mean_squared_error: 0.6652 - mean_absolute_error: 0.3291 - loss: 0.4419 - regularization_loss: 0.0000e+00 - total_loss: 0.4419\n",
            "Epoch 12/50\n",
            "57/57 [==============================] - 1s 10ms/step - root_mean_squared_error: 0.6586 - mean_absolute_error: 0.3267 - loss: 0.4335 - regularization_loss: 0.0000e+00 - total_loss: 0.4335\n",
            "Epoch 13/50\n",
            "57/57 [==============================] - 1s 8ms/step - root_mean_squared_error: 0.6501 - mean_absolute_error: 0.3183 - loss: 0.4231 - regularization_loss: 0.0000e+00 - total_loss: 0.4231\n",
            "Epoch 14/50\n",
            "57/57 [==============================] - 1s 10ms/step - root_mean_squared_error: 0.6455 - mean_absolute_error: 0.3158 - loss: 0.4168 - regularization_loss: 0.0000e+00 - total_loss: 0.4168\n",
            "Epoch 15/50\n",
            "57/57 [==============================] - 1s 8ms/step - root_mean_squared_error: 0.6396 - mean_absolute_error: 0.3118 - loss: 0.4111 - regularization_loss: 0.0000e+00 - total_loss: 0.4111\n",
            "Epoch 16/50\n",
            "57/57 [==============================] - 1s 8ms/step - root_mean_squared_error: 0.6346 - mean_absolute_error: 0.3095 - loss: 0.4032 - regularization_loss: 0.0000e+00 - total_loss: 0.4032\n",
            "Epoch 17/50\n",
            "57/57 [==============================] - 1s 8ms/step - root_mean_squared_error: 0.6292 - mean_absolute_error: 0.3069 - loss: 0.3942 - regularization_loss: 0.0000e+00 - total_loss: 0.3942\n",
            "Epoch 18/50\n",
            "57/57 [==============================] - 1s 10ms/step - root_mean_squared_error: 0.6258 - mean_absolute_error: 0.3049 - loss: 0.3907 - regularization_loss: 0.0000e+00 - total_loss: 0.3907\n",
            "Epoch 19/50\n",
            "57/57 [==============================] - 1s 10ms/step - root_mean_squared_error: 0.6222 - mean_absolute_error: 0.3030 - loss: 0.3890 - regularization_loss: 0.0000e+00 - total_loss: 0.3890\n",
            "Epoch 20/50\n",
            "57/57 [==============================] - 1s 8ms/step - root_mean_squared_error: 0.6180 - mean_absolute_error: 0.3023 - loss: 0.3838 - regularization_loss: 0.0000e+00 - total_loss: 0.3838\n",
            "Epoch 21/50\n",
            "57/57 [==============================] - 1s 10ms/step - root_mean_squared_error: 0.6123 - mean_absolute_error: 0.2976 - loss: 0.3720 - regularization_loss: 0.0000e+00 - total_loss: 0.3720\n",
            "Epoch 22/50\n",
            "57/57 [==============================] - 1s 10ms/step - root_mean_squared_error: 0.6059 - mean_absolute_error: 0.2953 - loss: 0.3666 - regularization_loss: 0.0000e+00 - total_loss: 0.3666\n",
            "Epoch 23/50\n",
            "57/57 [==============================] - 1s 8ms/step - root_mean_squared_error: 0.6023 - mean_absolute_error: 0.2944 - loss: 0.3670 - regularization_loss: 0.0000e+00 - total_loss: 0.3670\n",
            "Epoch 24/50\n",
            "57/57 [==============================] - 1s 8ms/step - root_mean_squared_error: 0.5984 - mean_absolute_error: 0.2946 - loss: 0.3572 - regularization_loss: 0.0000e+00 - total_loss: 0.3572\n",
            "Epoch 25/50\n",
            "57/57 [==============================] - 1s 8ms/step - root_mean_squared_error: 0.5931 - mean_absolute_error: 0.2921 - loss: 0.3531 - regularization_loss: 0.0000e+00 - total_loss: 0.3531\n",
            "Epoch 26/50\n",
            "57/57 [==============================] - 1s 8ms/step - root_mean_squared_error: 0.5873 - mean_absolute_error: 0.2883 - loss: 0.3439 - regularization_loss: 0.0000e+00 - total_loss: 0.3439\n",
            "Epoch 27/50\n",
            "57/57 [==============================] - 1s 8ms/step - root_mean_squared_error: 0.5858 - mean_absolute_error: 0.2928 - loss: 0.3440 - regularization_loss: 0.0000e+00 - total_loss: 0.3440\n",
            "Epoch 28/50\n",
            "57/57 [==============================] - 1s 10ms/step - root_mean_squared_error: 0.5819 - mean_absolute_error: 0.2892 - loss: 0.3367 - regularization_loss: 0.0000e+00 - total_loss: 0.3367\n",
            "Epoch 29/50\n",
            "57/57 [==============================] - 1s 8ms/step - root_mean_squared_error: 0.5753 - mean_absolute_error: 0.2863 - loss: 0.3312 - regularization_loss: 0.0000e+00 - total_loss: 0.3312\n",
            "Epoch 30/50\n",
            "57/57 [==============================] - 1s 8ms/step - root_mean_squared_error: 0.5686 - mean_absolute_error: 0.2822 - loss: 0.3265 - regularization_loss: 0.0000e+00 - total_loss: 0.3265\n",
            "Epoch 31/50\n",
            "57/57 [==============================] - 1s 8ms/step - root_mean_squared_error: 0.5636 - mean_absolute_error: 0.2843 - loss: 0.3174 - regularization_loss: 0.0000e+00 - total_loss: 0.3174\n",
            "Epoch 32/50\n",
            "57/57 [==============================] - 1s 9ms/step - root_mean_squared_error: 0.5536 - mean_absolute_error: 0.2749 - loss: 0.3067 - regularization_loss: 0.0000e+00 - total_loss: 0.3067\n",
            "Epoch 33/50\n",
            "57/57 [==============================] - 1s 11ms/step - root_mean_squared_error: 0.5475 - mean_absolute_error: 0.2758 - loss: 0.3020 - regularization_loss: 0.0000e+00 - total_loss: 0.3020\n",
            "Epoch 34/50\n",
            "57/57 [==============================] - 1s 8ms/step - root_mean_squared_error: 0.5429 - mean_absolute_error: 0.2737 - loss: 0.2939 - regularization_loss: 0.0000e+00 - total_loss: 0.2939\n",
            "Epoch 35/50\n",
            "57/57 [==============================] - 1s 8ms/step - root_mean_squared_error: 0.5270 - mean_absolute_error: 0.2637 - loss: 0.2779 - regularization_loss: 0.0000e+00 - total_loss: 0.2779\n",
            "Epoch 36/50\n",
            "57/57 [==============================] - 1s 9ms/step - root_mean_squared_error: 0.5229 - mean_absolute_error: 0.2696 - loss: 0.2748 - regularization_loss: 0.0000e+00 - total_loss: 0.2748\n",
            "Epoch 37/50\n",
            "57/57 [==============================] - 1s 10ms/step - root_mean_squared_error: 0.5055 - mean_absolute_error: 0.2578 - loss: 0.2561 - regularization_loss: 0.0000e+00 - total_loss: 0.2561\n",
            "Epoch 38/50\n",
            "57/57 [==============================] - 1s 8ms/step - root_mean_squared_error: 0.4924 - mean_absolute_error: 0.2526 - loss: 0.2429 - regularization_loss: 0.0000e+00 - total_loss: 0.2429\n",
            "Epoch 39/50\n",
            "57/57 [==============================] - 1s 9ms/step - root_mean_squared_error: 0.4743 - mean_absolute_error: 0.2453 - loss: 0.2247 - regularization_loss: 0.0000e+00 - total_loss: 0.2247\n",
            "Epoch 40/50\n",
            "57/57 [==============================] - 1s 8ms/step - root_mean_squared_error: 0.4508 - mean_absolute_error: 0.2301 - loss: 0.2054 - regularization_loss: 0.0000e+00 - total_loss: 0.2054\n",
            "Epoch 41/50\n",
            "57/57 [==============================] - 1s 8ms/step - root_mean_squared_error: 0.4421 - mean_absolute_error: 0.2338 - loss: 0.1952 - regularization_loss: 0.0000e+00 - total_loss: 0.1952\n",
            "Epoch 42/50\n",
            "57/57 [==============================] - 1s 8ms/step - root_mean_squared_error: 0.4200 - mean_absolute_error: 0.2210 - loss: 0.1763 - regularization_loss: 0.0000e+00 - total_loss: 0.1763\n",
            "Epoch 43/50\n",
            "57/57 [==============================] - 1s 10ms/step - root_mean_squared_error: 0.3991 - mean_absolute_error: 0.2114 - loss: 0.1603 - regularization_loss: 0.0000e+00 - total_loss: 0.1603\n",
            "Epoch 44/50\n",
            "57/57 [==============================] - 1s 7ms/step - root_mean_squared_error: 0.3858 - mean_absolute_error: 0.2074 - loss: 0.1492 - regularization_loss: 0.0000e+00 - total_loss: 0.1492\n",
            "Epoch 45/50\n",
            "57/57 [==============================] - 1s 9ms/step - root_mean_squared_error: 0.3663 - mean_absolute_error: 0.1963 - loss: 0.1342 - regularization_loss: 0.0000e+00 - total_loss: 0.1342\n",
            "Epoch 46/50\n",
            "57/57 [==============================] - 1s 7ms/step - root_mean_squared_error: 0.3469 - mean_absolute_error: 0.1885 - loss: 0.1202 - regularization_loss: 0.0000e+00 - total_loss: 0.1202\n",
            "Epoch 47/50\n",
            "57/57 [==============================] - 1s 8ms/step - root_mean_squared_error: 0.3317 - mean_absolute_error: 0.1798 - loss: 0.1095 - regularization_loss: 0.0000e+00 - total_loss: 0.1095\n",
            "Epoch 48/50\n",
            "57/57 [==============================] - 1s 8ms/step - root_mean_squared_error: 0.3113 - mean_absolute_error: 0.1716 - loss: 0.0965 - regularization_loss: 0.0000e+00 - total_loss: 0.0965\n",
            "Epoch 49/50\n",
            "57/57 [==============================] - 1s 8ms/step - root_mean_squared_error: 0.2956 - mean_absolute_error: 0.1632 - loss: 0.0876 - regularization_loss: 0.0000e+00 - total_loss: 0.0876\n",
            "Epoch 50/50\n",
            "57/57 [==============================] - 1s 8ms/step - root_mean_squared_error: 0.2786 - mean_absolute_error: 0.1528 - loss: 0.0777 - regularization_loss: 0.0000e+00 - total_loss: 0.0777\n"
          ],
          "name": "stdout"
        },
        {
          "output_type": "execute_result",
          "data": {
            "text/plain": [
              "<tensorflow.python.keras.callbacks.History at 0x7f3b39584490>"
            ]
          },
          "metadata": {
            "tags": []
          },
          "execution_count": 13
        }
      ]
    },
    {
      "cell_type": "code",
      "metadata": {
        "id": "W-zu6HLODNeI",
        "colab": {
          "base_uri": "https://localhost:8080/"
        },
        "outputId": "1ef7b40b-26e2-4e42-cb9c-08a7e2c21a2c"
      },
      "source": [
        "# model evaluation\n",
        "model.evaluate(cached_test, return_dict=True)"
      ],
      "execution_count": 14,
      "outputs": [
        {
          "output_type": "stream",
          "text": [
            "8/8 [==============================] - 1s 10ms/step - root_mean_squared_error: 0.9484 - mean_absolute_error: 0.4280 - loss: 0.7813 - regularization_loss: 0.0000e+00 - total_loss: 0.7813\n"
          ],
          "name": "stdout"
        },
        {
          "output_type": "execute_result",
          "data": {
            "text/plain": [
              "{'loss': 0.3453771770000458,\n",
              " 'mean_absolute_error': 0.42796310782432556,\n",
              " 'regularization_loss': 0,\n",
              " 'root_mean_squared_error': 0.9483715891838074,\n",
              " 'total_loss': 0.3453771770000458}"
            ]
          },
          "metadata": {
            "tags": []
          },
          "execution_count": 14
        }
      ]
    },
    {
      "cell_type": "code",
      "metadata": {
        "id": "Yp7aXgL1g1tD"
      },
      "source": [
        "# Reference:\n",
        "# [1] TensorFlow. (2021, March 19). TensorFlow Recommenders. https://www.tensorflow.org/recommenders"
      ],
      "execution_count": 15,
      "outputs": []
    }
  ]
}